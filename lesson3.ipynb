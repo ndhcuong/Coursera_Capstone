{
  "nbformat": 4,
  "nbformat_minor": 0,
  "metadata": {
    "colab": {
      "name": "lesson3.ipynb",
      "provenance": [],
      "include_colab_link": true
    },
    "kernelspec": {
      "name": "python3",
      "display_name": "Python 3"
    }
  },
  "cells": [
    {
      "cell_type": "markdown",
      "metadata": {
        "id": "view-in-github",
        "colab_type": "text"
      },
      "source": [
        "<a href=\"https://colab.research.google.com/github/ndhcuong/Coursera_Capstone/blob/master/lesson3.ipynb\" target=\"_parent\"><img src=\"https://colab.research.google.com/assets/colab-badge.svg\" alt=\"Open In Colab\"/></a>"
      ]
    },
    {
      "cell_type": "code",
      "metadata": {
        "id": "FT1ZcaBolhCJ",
        "colab_type": "code",
        "colab": {}
      },
      "source": [
        "import getpass"
      ],
      "execution_count": 0,
      "outputs": []
    },
    {
      "cell_type": "code",
      "metadata": {
        "id": "zErZi7GKl-pv",
        "colab_type": "code",
        "colab": {
          "base_uri": "https://localhost:8080/",
          "height": 52
        },
        "outputId": "5a6a4014-ba32-4a27-ea78-e6b6496e7125"
      },
      "source": [
        "u = input(\"username: \")\n",
        "p = getpass.getpass(\"password: \")"
      ],
      "execution_count": 2,
      "outputs": [
        {
          "output_type": "stream",
          "text": [
            "username: peter\n",
            "password: ··········\n"
          ],
          "name": "stdout"
        }
      ]
    },
    {
      "cell_type": "markdown",
      "metadata": {
        "id": "ULdic1M9nocK",
        "colab_type": "text"
      },
      "source": [
        "**Check (u, p) is right or wrong**"
      ]
    },
    {
      "cell_type": "code",
      "metadata": {
        "id": "sTLKuW3QmcHE",
        "colab_type": "code",
        "colab": {
          "base_uri": "https://localhost:8080/",
          "height": 35
        },
        "outputId": "ceae38e7-ebdd-4f04-a06e-9d2b21666179"
      },
      "source": [
        "if u == \"peter\" and p == \"Rj@is2019\":\n",
        "  print(\"login success\")\n",
        "else:\n",
        "  print(\"Fail\")\n"
      ],
      "execution_count": 3,
      "outputs": [
        {
          "output_type": "stream",
          "text": [
            "Fail\n"
          ],
          "name": "stdout"
        }
      ]
    }
  ]
}